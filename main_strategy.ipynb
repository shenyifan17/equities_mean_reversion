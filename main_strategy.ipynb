{
 "cells": [
  {
   "cell_type": "code",
   "execution_count": 1,
   "metadata": {},
   "outputs": [
    {
     "name": "stderr",
     "output_type": "stream",
     "text": [
      "/opt/anaconda3/lib/python3.8/site-packages/statsmodels/tsa/base/tsa_model.py:7: FutureWarning: pandas.Int64Index is deprecated and will be removed from pandas in a future version. Use pandas.Index with the appropriate dtype instead.\n",
      "  from pandas import (to_datetime, Int64Index, DatetimeIndex, Period,\n",
      "/opt/anaconda3/lib/python3.8/site-packages/statsmodels/tsa/base/tsa_model.py:7: FutureWarning: pandas.Float64Index is deprecated and will be removed from pandas in a future version. Use pandas.Index with the appropriate dtype instead.\n",
      "  from pandas import (to_datetime, Int64Index, DatetimeIndex, Period,\n"
     ]
    }
   ],
   "source": [
    "import pandas as pd\n",
    "import numpy as np\n",
    "import matplotlib.pyplot as plt\n",
    "from main_backtest import run_full_backtest\n",
    "import statsmodels.api as sm\n",
    "from cal_backtest_stats import *"
   ]
  },
  {
   "cell_type": "code",
   "execution_count": 12,
   "metadata": {},
   "outputs": [
    {
     "name": "stderr",
     "output_type": "stream",
     "text": [
      "/Users/shenyifan/Documents/equities_mean_reversion/main_backtest.py:51: FutureWarning: The default dtype for empty Series will be 'object' instead of 'float64' in a future version. Specify a dtype explicitly to silence this warning.\n",
      "  sr_LT_pct_ret = pd.Series()\n"
     ]
    }
   ],
   "source": [
    "params = {\n",
    "    'start_year': 2010, \n",
    "    'end_year': 2024, \n",
    "    'top_corr_pairs': 20,\n",
    "    'num_pairs': 15,\n",
    "    'trigger_std': 1.96,\n",
    "    'stoploss_std': 3.0\n",
    "}\n",
    "sr_LT_pct_ret = run_full_backtest(**params)\n",
    "sr_nav = (100*(1+sr_LT_pct_ret).cumprod())"
   ]
  },
  {
   "cell_type": "code",
   "execution_count": 13,
   "metadata": {},
   "outputs": [
    {
     "data": {
      "text/plain": [
       "<AxesSubplot:>"
      ]
     },
     "execution_count": 13,
     "metadata": {},
     "output_type": "execute_result"
    },
    {
     "data": {
      "image/png": "[encoded data removed]",
      "text/plain": [
       "<Figure size 432x288 with 1 Axes>"
      ]
     },
     "metadata": {
      "needs_background": "light"
     },
     "output_type": "display_data"
    }
   ],
   "source": [
    "sr_nav.plot()"
   ]
  },
  {
   "cell_type": "code",
   "execution_count": 14,
   "metadata": {},
   "outputs": [
    {
     "data": {
      "text/html": [
       "<div>\n",
       "<style scoped>\n",
       "    .dataframe tbody tr th:only-of-type {\n",
       "        vertical-align: middle;\n",
       "    }\n",
       "\n",
       "    .dataframe tbody tr th {\n",
       "        vertical-align: top;\n",
       "    }\n",
       "\n",
       "    .dataframe thead th {\n",
       "        text-align: right;\n",
       "    }\n",
       "</style>\n",
       "<table border=\"1\" class=\"dataframe\">\n",
       "  <thead>\n",
       "    <tr style=\"text-align: right;\">\n",
       "      <th></th>\n",
       "      <th>0</th>\n",
       "    </tr>\n",
       "  </thead>\n",
       "  <tbody>\n",
       "    <tr>\n",
       "      <th>Annualised Return</th>\n",
       "      <td>0.188858</td>\n",
       "    </tr>\n",
       "    <tr>\n",
       "      <th>Annualised Volatility</th>\n",
       "      <td>0.043354</td>\n",
       "    </tr>\n",
       "    <tr>\n",
       "      <th>Sharpe Ratio</th>\n",
       "      <td>4.356225</td>\n",
       "    </tr>\n",
       "    <tr>\n",
       "      <th>Max Drawdown</th>\n",
       "      <td>-0.025789</td>\n",
       "    </tr>\n",
       "    <tr>\n",
       "      <th>Max Drawdown/Vol Ratio</th>\n",
       "      <td>-0.594848</td>\n",
       "    </tr>\n",
       "    <tr>\n",
       "      <th>Sortino Ratio</th>\n",
       "      <td>7.591855</td>\n",
       "    </tr>\n",
       "    <tr>\n",
       "      <th>% +ve month</th>\n",
       "      <td>0.969512</td>\n",
       "    </tr>\n",
       "  </tbody>\n",
       "</table>\n",
       "</div>"
      ],
      "text/plain": [
       "                               0\n",
       "Annualised Return       0.188858\n",
       "Annualised Volatility   0.043354\n",
       "Sharpe Ratio            4.356225\n",
       "Max Drawdown           -0.025789\n",
       "Max Drawdown/Vol Ratio -0.594848\n",
       "Sortino Ratio           7.591855\n",
       "% +ve month             0.969512"
      ]
     },
     "execution_count": 14,
     "metadata": {},
     "output_type": "execute_result"
    }
   ],
   "source": [
    "generate_stats_table(sr_nav.to_frame())"
   ]
  },
  {
   "cell_type": "markdown",
   "metadata": {},
   "source": [
    "Overall the backtest performance is very impressive, likely due to high hit ratio and diversification from having multiple pairs in the same portfolio. We test multiple parameters combinations and plot heatmaps to show how key stats change with parameters"
   ]
  },
  {
   "cell_type": "code",
   "execution_count": 20,
   "metadata": {},
   "outputs": [
    {
     "name": "stdout",
     "output_type": "stream",
     "text": [
      "0\n"
     ]
    },
    {
     "name": "stderr",
     "output_type": "stream",
     "text": [
      "/Users/shenyifan/Documents/equities_mean_reversion/main_backtest.py:51: FutureWarning: The default dtype for empty Series will be 'object' instead of 'float64' in a future version. Specify a dtype explicitly to silence this warning.\n",
      "  sr_LT_pct_ret = pd.Series()\n"
     ]
    },
    {
     "name": "stdout",
     "output_type": "stream",
     "text": [
      "1\n"
     ]
    },
    {
     "name": "stderr",
     "output_type": "stream",
     "text": [
      "/Users/shenyifan/Documents/equities_mean_reversion/main_backtest.py:51: FutureWarning: The default dtype for empty Series will be 'object' instead of 'float64' in a future version. Specify a dtype explicitly to silence this warning.\n",
      "  sr_LT_pct_ret = pd.Series()\n"
     ]
    },
    {
     "name": "stdout",
     "output_type": "stream",
     "text": [
      "2\n"
     ]
    },
    {
     "name": "stderr",
     "output_type": "stream",
     "text": [
      "/Users/shenyifan/Documents/equities_mean_reversion/main_backtest.py:51: FutureWarning: The default dtype for empty Series will be 'object' instead of 'float64' in a future version. Specify a dtype explicitly to silence this warning.\n",
      "  sr_LT_pct_ret = pd.Series()\n"
     ]
    },
    {
     "name": "stdout",
     "output_type": "stream",
     "text": [
      "3\n"
     ]
    },
    {
     "name": "stderr",
     "output_type": "stream",
     "text": [
      "/Users/shenyifan/Documents/equities_mean_reversion/main_backtest.py:51: FutureWarning: The default dtype for empty Series will be 'object' instead of 'float64' in a future version. Specify a dtype explicitly to silence this warning.\n",
      "  sr_LT_pct_ret = pd.Series()\n"
     ]
    },
    {
     "name": "stdout",
     "output_type": "stream",
     "text": [
      "4\n"
     ]
    },
    {
     "name": "stderr",
     "output_type": "stream",
     "text": [
      "/Users/shenyifan/Documents/equities_mean_reversion/main_backtest.py:51: FutureWarning: The default dtype for empty Series will be 'object' instead of 'float64' in a future version. Specify a dtype explicitly to silence this warning.\n",
      "  sr_LT_pct_ret = pd.Series()\n"
     ]
    },
    {
     "name": "stdout",
     "output_type": "stream",
     "text": [
      "5\n"
     ]
    },
    {
     "name": "stderr",
     "output_type": "stream",
     "text": [
      "/Users/shenyifan/Documents/equities_mean_reversion/main_backtest.py:51: FutureWarning: The default dtype for empty Series will be 'object' instead of 'float64' in a future version. Specify a dtype explicitly to silence this warning.\n",
      "  sr_LT_pct_ret = pd.Series()\n"
     ]
    },
    {
     "name": "stdout",
     "output_type": "stream",
     "text": [
      "6\n"
     ]
    },
    {
     "name": "stderr",
     "output_type": "stream",
     "text": [
      "/Users/shenyifan/Documents/equities_mean_reversion/main_backtest.py:51: FutureWarning: The default dtype for empty Series will be 'object' instead of 'float64' in a future version. Specify a dtype explicitly to silence this warning.\n",
      "  sr_LT_pct_ret = pd.Series()\n"
     ]
    },
    {
     "name": "stdout",
     "output_type": "stream",
     "text": [
      "7\n"
     ]
    },
    {
     "name": "stderr",
     "output_type": "stream",
     "text": [
      "/Users/shenyifan/Documents/equities_mean_reversion/main_backtest.py:51: FutureWarning: The default dtype for empty Series will be 'object' instead of 'float64' in a future version. Specify a dtype explicitly to silence this warning.\n",
      "  sr_LT_pct_ret = pd.Series()\n"
     ]
    },
    {
     "name": "stdout",
     "output_type": "stream",
     "text": [
      "8\n"
     ]
    },
    {
     "name": "stderr",
     "output_type": "stream",
     "text": [
      "/Users/shenyifan/Documents/equities_mean_reversion/main_backtest.py:51: FutureWarning: The default dtype for empty Series will be 'object' instead of 'float64' in a future version. Specify a dtype explicitly to silence this warning.\n",
      "  sr_LT_pct_ret = pd.Series()\n"
     ]
    },
    {
     "name": "stdout",
     "output_type": "stream",
     "text": [
      "9\n"
     ]
    },
    {
     "name": "stderr",
     "output_type": "stream",
     "text": [
      "/Users/shenyifan/Documents/equities_mean_reversion/main_backtest.py:51: FutureWarning: The default dtype for empty Series will be 'object' instead of 'float64' in a future version. Specify a dtype explicitly to silence this warning.\n",
      "  sr_LT_pct_ret = pd.Series()\n"
     ]
    },
    {
     "name": "stdout",
     "output_type": "stream",
     "text": [
      "10\n"
     ]
    },
    {
     "name": "stderr",
     "output_type": "stream",
     "text": [
      "/Users/shenyifan/Documents/equities_mean_reversion/main_backtest.py:51: FutureWarning: The default dtype for empty Series will be 'object' instead of 'float64' in a future version. Specify a dtype explicitly to silence this warning.\n",
      "  sr_LT_pct_ret = pd.Series()\n"
     ]
    },
    {
     "name": "stdout",
     "output_type": "stream",
     "text": [
      "11\n"
     ]
    },
    {
     "name": "stderr",
     "output_type": "stream",
     "text": [
      "/Users/shenyifan/Documents/equities_mean_reversion/main_backtest.py:51: FutureWarning: The default dtype for empty Series will be 'object' instead of 'float64' in a future version. Specify a dtype explicitly to silence this warning.\n",
      "  sr_LT_pct_ret = pd.Series()\n"
     ]
    },
    {
     "name": "stdout",
     "output_type": "stream",
     "text": [
      "12\n"
     ]
    },
    {
     "name": "stderr",
     "output_type": "stream",
     "text": [
      "/Users/shenyifan/Documents/equities_mean_reversion/main_backtest.py:51: FutureWarning: The default dtype for empty Series will be 'object' instead of 'float64' in a future version. Specify a dtype explicitly to silence this warning.\n",
      "  sr_LT_pct_ret = pd.Series()\n"
     ]
    },
    {
     "name": "stdout",
     "output_type": "stream",
     "text": [
      "13\n"
     ]
    },
    {
     "name": "stderr",
     "output_type": "stream",
     "text": [
      "/Users/shenyifan/Documents/equities_mean_reversion/main_backtest.py:51: FutureWarning: The default dtype for empty Series will be 'object' instead of 'float64' in a future version. Specify a dtype explicitly to silence this warning.\n",
      "  sr_LT_pct_ret = pd.Series()\n"
     ]
    },
    {
     "name": "stdout",
     "output_type": "stream",
     "text": [
      "14\n"
     ]
    },
    {
     "name": "stderr",
     "output_type": "stream",
     "text": [
      "/Users/shenyifan/Documents/equities_mean_reversion/main_backtest.py:51: FutureWarning: The default dtype for empty Series will be 'object' instead of 'float64' in a future version. Specify a dtype explicitly to silence this warning.\n",
      "  sr_LT_pct_ret = pd.Series()\n"
     ]
    },
    {
     "name": "stdout",
     "output_type": "stream",
     "text": [
      "15\n"
     ]
    },
    {
     "name": "stderr",
     "output_type": "stream",
     "text": [
      "/Users/shenyifan/Documents/equities_mean_reversion/main_backtest.py:51: FutureWarning: The default dtype for empty Series will be 'object' instead of 'float64' in a future version. Specify a dtype explicitly to silence this warning.\n",
      "  sr_LT_pct_ret = pd.Series()\n"
     ]
    },
    {
     "name": "stdout",
     "output_type": "stream",
     "text": [
      "16\n"
     ]
    },
    {
     "name": "stderr",
     "output_type": "stream",
     "text": [
      "/Users/shenyifan/Documents/equities_mean_reversion/main_backtest.py:51: FutureWarning: The default dtype for empty Series will be 'object' instead of 'float64' in a future version. Specify a dtype explicitly to silence this warning.\n",
      "  sr_LT_pct_ret = pd.Series()\n"
     ]
    },
    {
     "name": "stdout",
     "output_type": "stream",
     "text": [
      "17\n"
     ]
    },
    {
     "name": "stderr",
     "output_type": "stream",
     "text": [
      "/Users/shenyifan/Documents/equities_mean_reversion/main_backtest.py:51: FutureWarning: The default dtype for empty Series will be 'object' instead of 'float64' in a future version. Specify a dtype explicitly to silence this warning.\n",
      "  sr_LT_pct_ret = pd.Series()\n"
     ]
    },
    {
     "name": "stdout",
     "output_type": "stream",
     "text": [
      "18\n"
     ]
    },
    {
     "name": "stderr",
     "output_type": "stream",
     "text": [
      "/Users/shenyifan/Documents/equities_mean_reversion/main_backtest.py:51: FutureWarning: The default dtype for empty Series will be 'object' instead of 'float64' in a future version. Specify a dtype explicitly to silence this warning.\n",
      "  sr_LT_pct_ret = pd.Series()\n"
     ]
    },
    {
     "name": "stdout",
     "output_type": "stream",
     "text": [
      "19\n"
     ]
    },
    {
     "name": "stderr",
     "output_type": "stream",
     "text": [
      "/Users/shenyifan/Documents/equities_mean_reversion/main_backtest.py:51: FutureWarning: The default dtype for empty Series will be 'object' instead of 'float64' in a future version. Specify a dtype explicitly to silence this warning.\n",
      "  sr_LT_pct_ret = pd.Series()\n"
     ]
    },
    {
     "name": "stdout",
     "output_type": "stream",
     "text": [
      "20\n"
     ]
    },
    {
     "name": "stderr",
     "output_type": "stream",
     "text": [
      "/Users/shenyifan/Documents/equities_mean_reversion/main_backtest.py:51: FutureWarning: The default dtype for empty Series will be 'object' instead of 'float64' in a future version. Specify a dtype explicitly to silence this warning.\n",
      "  sr_LT_pct_ret = pd.Series()\n"
     ]
    },
    {
     "name": "stdout",
     "output_type": "stream",
     "text": [
      "21\n"
     ]
    },
    {
     "name": "stderr",
     "output_type": "stream",
     "text": [
      "/Users/shenyifan/Documents/equities_mean_reversion/main_backtest.py:51: FutureWarning: The default dtype for empty Series will be 'object' instead of 'float64' in a future version. Specify a dtype explicitly to silence this warning.\n",
      "  sr_LT_pct_ret = pd.Series()\n"
     ]
    },
    {
     "name": "stdout",
     "output_type": "stream",
     "text": [
      "22\n"
     ]
    },
    {
     "name": "stderr",
     "output_type": "stream",
     "text": [
      "/Users/shenyifan/Documents/equities_mean_reversion/main_backtest.py:51: FutureWarning: The default dtype for empty Series will be 'object' instead of 'float64' in a future version. Specify a dtype explicitly to silence this warning.\n",
      "  sr_LT_pct_ret = pd.Series()\n"
     ]
    },
    {
     "name": "stdout",
     "output_type": "stream",
     "text": [
      "23\n"
     ]
    },
    {
     "name": "stderr",
     "output_type": "stream",
     "text": [
      "/Users/shenyifan/Documents/equities_mean_reversion/main_backtest.py:51: FutureWarning: The default dtype for empty Series will be 'object' instead of 'float64' in a future version. Specify a dtype explicitly to silence this warning.\n",
      "  sr_LT_pct_ret = pd.Series()\n"
     ]
    },
    {
     "name": "stdout",
     "output_type": "stream",
     "text": [
      "24\n"
     ]
    },
    {
     "name": "stderr",
     "output_type": "stream",
     "text": [
      "/Users/shenyifan/Documents/equities_mean_reversion/main_backtest.py:51: FutureWarning: The default dtype for empty Series will be 'object' instead of 'float64' in a future version. Specify a dtype explicitly to silence this warning.\n",
      "  sr_LT_pct_ret = pd.Series()\n"
     ]
    },
    {
     "name": "stdout",
     "output_type": "stream",
     "text": [
      "25\n"
     ]
    },
    {
     "name": "stderr",
     "output_type": "stream",
     "text": [
      "/Users/shenyifan/Documents/equities_mean_reversion/main_backtest.py:51: FutureWarning: The default dtype for empty Series will be 'object' instead of 'float64' in a future version. Specify a dtype explicitly to silence this warning.\n",
      "  sr_LT_pct_ret = pd.Series()\n"
     ]
    },
    {
     "name": "stdout",
     "output_type": "stream",
     "text": [
      "26\n"
     ]
    },
    {
     "name": "stderr",
     "output_type": "stream",
     "text": [
      "/Users/shenyifan/Documents/equities_mean_reversion/main_backtest.py:51: FutureWarning: The default dtype for empty Series will be 'object' instead of 'float64' in a future version. Specify a dtype explicitly to silence this warning.\n",
      "  sr_LT_pct_ret = pd.Series()\n"
     ]
    },
    {
     "name": "stdout",
     "output_type": "stream",
     "text": [
      "27\n"
     ]
    },
    {
     "name": "stderr",
     "output_type": "stream",
     "text": [
      "/Users/shenyifan/Documents/equities_mean_reversion/main_backtest.py:51: FutureWarning: The default dtype for empty Series will be 'object' instead of 'float64' in a future version. Specify a dtype explicitly to silence this warning.\n",
      "  sr_LT_pct_ret = pd.Series()\n"
     ]
    },
    {
     "name": "stdout",
     "output_type": "stream",
     "text": [
      "28\n"
     ]
    },
    {
     "name": "stderr",
     "output_type": "stream",
     "text": [
      "/Users/shenyifan/Documents/equities_mean_reversion/main_backtest.py:51: FutureWarning: The default dtype for empty Series will be 'object' instead of 'float64' in a future version. Specify a dtype explicitly to silence this warning.\n",
      "  sr_LT_pct_ret = pd.Series()\n"
     ]
    },
    {
     "name": "stdout",
     "output_type": "stream",
     "text": [
      "29\n"
     ]
    },
    {
     "name": "stderr",
     "output_type": "stream",
     "text": [
      "/Users/shenyifan/Documents/equities_mean_reversion/main_backtest.py:51: FutureWarning: The default dtype for empty Series will be 'object' instead of 'float64' in a future version. Specify a dtype explicitly to silence this warning.\n",
      "  sr_LT_pct_ret = pd.Series()\n"
     ]
    }
   ],
   "source": [
    "from itertools import product\n",
    "# run multiple parameters to test parameter sensitivity \n",
    "params_config = {\n",
    "                'num_pairs': [1, 2, 5, 10, 15],   # number of pairs selected to test\n",
    "                'trigger_std': [1.0, 1.5, 1.96], # entry position standard deviation\n",
    "                'stoploss_std': [2.5, 3.0]     # stop loss standard deviation\n",
    "                }  \n",
    "\n",
    "# 4 * 3 * 2 = 24 combinations to test\n",
    "all_params = [dict(zip(params_config, val))\\\n",
    "              for val in product(*params_config.values())]\n",
    "records_dict = {}\n",
    "for i, para in enumerate(all_params):\n",
    "    print(i)\n",
    "    sr_LT_pct_ret = run_full_backtest(**para)\n",
    "    sr_nav = (100*(1+sr_LT_pct_ret).cumprod())\n",
    "    stats_dict = cal_backtest_stats(sr_LT_pct_ret)\n",
    "    para.update(stats_dict)\n",
    "    records_dict[i] = para.copy()\n",
    "df_all_records = pd.DataFrame(data=records_dict).T\n"
   ]
  },
  {
   "cell_type": "code",
   "execution_count": 22,
   "metadata": {},
   "outputs": [],
   "source": [
    "df_all_records.to_csv('parameter_sensitivity_test_heatmaps/bakctest_all_records.csv')"
   ]
  },
  {
   "cell_type": "code",
   "execution_count": 23,
   "metadata": {},
   "outputs": [
    {
     "data": {
      "text/html": [
       "<div>\n",
       "<style scoped>\n",
       "    .dataframe tbody tr th:only-of-type {\n",
       "        vertical-align: middle;\n",
       "    }\n",
       "\n",
       "    .dataframe tbody tr th {\n",
       "        vertical-align: top;\n",
       "    }\n",
       "\n",
       "    .dataframe thead th {\n",
       "        text-align: right;\n",
       "    }\n",
       "</style>\n",
       "<table border=\"1\" class=\"dataframe\">\n",
       "  <thead>\n",
       "    <tr style=\"text-align: right;\">\n",
       "      <th></th>\n",
       "      <th>num_pairs</th>\n",
       "      <th>trigger_std</th>\n",
       "      <th>stoploss_std</th>\n",
       "      <th>cum_ret</th>\n",
       "      <th>ret</th>\n",
       "      <th>vol</th>\n",
       "      <th>sharpe</th>\n",
       "      <th>max_dd</th>\n",
       "      <th>max_dd_vol</th>\n",
       "      <th>sortino</th>\n",
       "      <th>pct_positive_month</th>\n",
       "      <th>pct_positive_yr</th>\n",
       "    </tr>\n",
       "  </thead>\n",
       "  <tbody>\n",
       "    <tr>\n",
       "      <th>0</th>\n",
       "      <td>1.0</td>\n",
       "      <td>1.00</td>\n",
       "      <td>2.5</td>\n",
       "      <td>19.445046</td>\n",
       "      <td>0.242591</td>\n",
       "      <td>0.167723</td>\n",
       "      <td>1.446380</td>\n",
       "      <td>-0.171617</td>\n",
       "      <td>-1.023217</td>\n",
       "      <td>1.449888</td>\n",
       "      <td>0.682927</td>\n",
       "      <td>1.0</td>\n",
       "    </tr>\n",
       "    <tr>\n",
       "      <th>1</th>\n",
       "      <td>1.0</td>\n",
       "      <td>1.00</td>\n",
       "      <td>3.0</td>\n",
       "      <td>20.303540</td>\n",
       "      <td>0.246527</td>\n",
       "      <td>0.167951</td>\n",
       "      <td>1.467848</td>\n",
       "      <td>-0.171617</td>\n",
       "      <td>-1.021828</td>\n",
       "      <td>1.481308</td>\n",
       "      <td>0.682927</td>\n",
       "      <td>1.0</td>\n",
       "    </tr>\n",
       "    <tr>\n",
       "      <th>2</th>\n",
       "      <td>1.0</td>\n",
       "      <td>1.50</td>\n",
       "      <td>2.5</td>\n",
       "      <td>12.112160</td>\n",
       "      <td>0.200277</td>\n",
       "      <td>0.133773</td>\n",
       "      <td>1.497133</td>\n",
       "      <td>-0.117285</td>\n",
       "      <td>-0.876742</td>\n",
       "      <td>1.396791</td>\n",
       "      <td>0.536585</td>\n",
       "      <td>1.0</td>\n",
       "    </tr>\n",
       "    <tr>\n",
       "      <th>3</th>\n",
       "      <td>1.0</td>\n",
       "      <td>1.50</td>\n",
       "      <td>3.0</td>\n",
       "      <td>12.573779</td>\n",
       "      <td>0.203567</td>\n",
       "      <td>0.134014</td>\n",
       "      <td>1.519002</td>\n",
       "      <td>-0.117285</td>\n",
       "      <td>-0.875170</td>\n",
       "      <td>1.426377</td>\n",
       "      <td>0.530488</td>\n",
       "      <td>1.0</td>\n",
       "    </tr>\n",
       "    <tr>\n",
       "      <th>4</th>\n",
       "      <td>1.0</td>\n",
       "      <td>1.96</td>\n",
       "      <td>2.5</td>\n",
       "      <td>5.953414</td>\n",
       "      <td>0.139476</td>\n",
       "      <td>0.107835</td>\n",
       "      <td>1.293425</td>\n",
       "      <td>-0.101414</td>\n",
       "      <td>-0.940456</td>\n",
       "      <td>0.947736</td>\n",
       "      <td>0.329268</td>\n",
       "      <td>1.0</td>\n",
       "    </tr>\n",
       "    <tr>\n",
       "      <th>5</th>\n",
       "      <td>1.0</td>\n",
       "      <td>1.96</td>\n",
       "      <td>3.0</td>\n",
       "      <td>6.310263</td>\n",
       "      <td>0.144342</td>\n",
       "      <td>0.108307</td>\n",
       "      <td>1.332713</td>\n",
       "      <td>-0.101414</td>\n",
       "      <td>-0.936361</td>\n",
       "      <td>0.996837</td>\n",
       "      <td>0.341463</td>\n",
       "      <td>1.0</td>\n",
       "    </tr>\n",
       "    <tr>\n",
       "      <th>6</th>\n",
       "      <td>2.0</td>\n",
       "      <td>1.00</td>\n",
       "      <td>2.5</td>\n",
       "      <td>27.915000</td>\n",
       "      <td>0.275914</td>\n",
       "      <td>0.148674</td>\n",
       "      <td>1.855833</td>\n",
       "      <td>-0.168457</td>\n",
       "      <td>-1.133068</td>\n",
       "      <td>2.199597</td>\n",
       "      <td>0.774390</td>\n",
       "      <td>1.0</td>\n",
       "    </tr>\n",
       "    <tr>\n",
       "      <th>7</th>\n",
       "      <td>2.0</td>\n",
       "      <td>1.00</td>\n",
       "      <td>3.0</td>\n",
       "      <td>29.714540</td>\n",
       "      <td>0.281761</td>\n",
       "      <td>0.148877</td>\n",
       "      <td>1.892575</td>\n",
       "      <td>-0.168457</td>\n",
       "      <td>-1.131521</td>\n",
       "      <td>2.249560</td>\n",
       "      <td>0.774390</td>\n",
       "      <td>1.0</td>\n",
       "    </tr>\n",
       "    <tr>\n",
       "      <th>8</th>\n",
       "      <td>2.0</td>\n",
       "      <td>1.50</td>\n",
       "      <td>2.5</td>\n",
       "      <td>16.636653</td>\n",
       "      <td>0.228486</td>\n",
       "      <td>0.118062</td>\n",
       "      <td>1.935310</td>\n",
       "      <td>-0.089731</td>\n",
       "      <td>-0.760033</td>\n",
       "      <td>2.273662</td>\n",
       "      <td>0.689024</td>\n",
       "      <td>1.0</td>\n",
       "    </tr>\n",
       "    <tr>\n",
       "      <th>9</th>\n",
       "      <td>2.0</td>\n",
       "      <td>1.50</td>\n",
       "      <td>3.0</td>\n",
       "      <td>17.658147</td>\n",
       "      <td>0.233855</td>\n",
       "      <td>0.118286</td>\n",
       "      <td>1.977031</td>\n",
       "      <td>-0.089731</td>\n",
       "      <td>-0.758590</td>\n",
       "      <td>2.334888</td>\n",
       "      <td>0.689024</td>\n",
       "      <td>1.0</td>\n",
       "    </tr>\n",
       "    <tr>\n",
       "      <th>10</th>\n",
       "      <td>2.0</td>\n",
       "      <td>1.96</td>\n",
       "      <td>2.5</td>\n",
       "      <td>6.413903</td>\n",
       "      <td>0.145707</td>\n",
       "      <td>0.083578</td>\n",
       "      <td>1.743374</td>\n",
       "      <td>-0.055866</td>\n",
       "      <td>-0.668436</td>\n",
       "      <td>1.933008</td>\n",
       "      <td>0.493902</td>\n",
       "      <td>1.0</td>\n",
       "    </tr>\n",
       "    <tr>\n",
       "      <th>11</th>\n",
       "      <td>2.0</td>\n",
       "      <td>1.96</td>\n",
       "      <td>3.0</td>\n",
       "      <td>6.899810</td>\n",
       "      <td>0.151847</td>\n",
       "      <td>0.084122</td>\n",
       "      <td>1.805069</td>\n",
       "      <td>-0.060732</td>\n",
       "      <td>-0.721944</td>\n",
       "      <td>2.038896</td>\n",
       "      <td>0.506098</td>\n",
       "      <td>1.0</td>\n",
       "    </tr>\n",
       "    <tr>\n",
       "      <th>12</th>\n",
       "      <td>5.0</td>\n",
       "      <td>1.00</td>\n",
       "      <td>2.5</td>\n",
       "      <td>27.905982</td>\n",
       "      <td>0.275883</td>\n",
       "      <td>0.098885</td>\n",
       "      <td>2.789934</td>\n",
       "      <td>-0.108543</td>\n",
       "      <td>-1.097669</td>\n",
       "      <td>3.867519</td>\n",
       "      <td>0.884146</td>\n",
       "      <td>1.0</td>\n",
       "    </tr>\n",
       "    <tr>\n",
       "      <th>13</th>\n",
       "      <td>5.0</td>\n",
       "      <td>1.00</td>\n",
       "      <td>3.0</td>\n",
       "      <td>30.344425</td>\n",
       "      <td>0.283730</td>\n",
       "      <td>0.099355</td>\n",
       "      <td>2.855719</td>\n",
       "      <td>-0.107141</td>\n",
       "      <td>-1.078361</td>\n",
       "      <td>3.967767</td>\n",
       "      <td>0.890244</td>\n",
       "      <td>1.0</td>\n",
       "    </tr>\n",
       "    <tr>\n",
       "      <th>14</th>\n",
       "      <td>5.0</td>\n",
       "      <td>1.50</td>\n",
       "      <td>2.5</td>\n",
       "      <td>17.157385</td>\n",
       "      <td>0.231260</td>\n",
       "      <td>0.079050</td>\n",
       "      <td>2.925477</td>\n",
       "      <td>-0.063593</td>\n",
       "      <td>-0.804463</td>\n",
       "      <td>4.205147</td>\n",
       "      <td>0.865854</td>\n",
       "      <td>1.0</td>\n",
       "    </tr>\n",
       "    <tr>\n",
       "      <th>15</th>\n",
       "      <td>5.0</td>\n",
       "      <td>1.50</td>\n",
       "      <td>3.0</td>\n",
       "      <td>18.720818</td>\n",
       "      <td>0.239144</td>\n",
       "      <td>0.079384</td>\n",
       "      <td>3.012505</td>\n",
       "      <td>-0.062043</td>\n",
       "      <td>-0.781557</td>\n",
       "      <td>4.347114</td>\n",
       "      <td>0.865854</td>\n",
       "      <td>1.0</td>\n",
       "    </tr>\n",
       "    <tr>\n",
       "      <th>16</th>\n",
       "      <td>5.0</td>\n",
       "      <td>1.96</td>\n",
       "      <td>2.5</td>\n",
       "      <td>6.061864</td>\n",
       "      <td>0.140983</td>\n",
       "      <td>0.055956</td>\n",
       "      <td>2.519548</td>\n",
       "      <td>-0.041402</td>\n",
       "      <td>-0.739901</td>\n",
       "      <td>3.296674</td>\n",
       "      <td>0.676829</td>\n",
       "      <td>1.0</td>\n",
       "    </tr>\n",
       "    <tr>\n",
       "      <th>17</th>\n",
       "      <td>5.0</td>\n",
       "      <td>1.96</td>\n",
       "      <td>3.0</td>\n",
       "      <td>6.618914</td>\n",
       "      <td>0.148348</td>\n",
       "      <td>0.057058</td>\n",
       "      <td>2.599947</td>\n",
       "      <td>-0.045845</td>\n",
       "      <td>-0.803486</td>\n",
       "      <td>3.395669</td>\n",
       "      <td>0.695122</td>\n",
       "      <td>1.0</td>\n",
       "    </tr>\n",
       "    <tr>\n",
       "      <th>18</th>\n",
       "      <td>10.0</td>\n",
       "      <td>1.00</td>\n",
       "      <td>2.5</td>\n",
       "      <td>39.107656</td>\n",
       "      <td>0.307790</td>\n",
       "      <td>0.075068</td>\n",
       "      <td>4.100134</td>\n",
       "      <td>-0.074281</td>\n",
       "      <td>-0.989515</td>\n",
       "      <td>6.331015</td>\n",
       "      <td>0.926829</td>\n",
       "      <td>1.0</td>\n",
       "    </tr>\n",
       "    <tr>\n",
       "      <th>19</th>\n",
       "      <td>10.0</td>\n",
       "      <td>1.00</td>\n",
       "      <td>3.0</td>\n",
       "      <td>44.246652</td>\n",
       "      <td>0.319661</td>\n",
       "      <td>0.076237</td>\n",
       "      <td>4.192979</td>\n",
       "      <td>-0.070219</td>\n",
       "      <td>-0.921062</td>\n",
       "      <td>6.571775</td>\n",
       "      <td>0.926829</td>\n",
       "      <td>1.0</td>\n",
       "    </tr>\n",
       "    <tr>\n",
       "      <th>20</th>\n",
       "      <td>10.0</td>\n",
       "      <td>1.50</td>\n",
       "      <td>2.5</td>\n",
       "      <td>23.947957</td>\n",
       "      <td>0.261680</td>\n",
       "      <td>0.059762</td>\n",
       "      <td>4.378695</td>\n",
       "      <td>-0.033868</td>\n",
       "      <td>-0.566713</td>\n",
       "      <td>7.511273</td>\n",
       "      <td>0.957317</td>\n",
       "      <td>1.0</td>\n",
       "    </tr>\n",
       "    <tr>\n",
       "      <th>21</th>\n",
       "      <td>10.0</td>\n",
       "      <td>1.50</td>\n",
       "      <td>3.0</td>\n",
       "      <td>27.147007</td>\n",
       "      <td>0.273311</td>\n",
       "      <td>0.060818</td>\n",
       "      <td>4.493890</td>\n",
       "      <td>-0.033868</td>\n",
       "      <td>-0.556870</td>\n",
       "      <td>7.832981</td>\n",
       "      <td>0.957317</td>\n",
       "      <td>1.0</td>\n",
       "    </tr>\n",
       "    <tr>\n",
       "      <th>22</th>\n",
       "      <td>10.0</td>\n",
       "      <td>1.96</td>\n",
       "      <td>2.5</td>\n",
       "      <td>7.371735</td>\n",
       "      <td>0.157438</td>\n",
       "      <td>0.041059</td>\n",
       "      <td>3.834395</td>\n",
       "      <td>-0.032335</td>\n",
       "      <td>-0.787529</td>\n",
       "      <td>5.908838</td>\n",
       "      <td>0.884146</td>\n",
       "      <td>1.0</td>\n",
       "    </tr>\n",
       "    <tr>\n",
       "      <th>23</th>\n",
       "      <td>10.0</td>\n",
       "      <td>1.96</td>\n",
       "      <td>3.0</td>\n",
       "      <td>8.588124</td>\n",
       "      <td>0.170448</td>\n",
       "      <td>0.043328</td>\n",
       "      <td>3.933904</td>\n",
       "      <td>-0.032335</td>\n",
       "      <td>-0.746293</td>\n",
       "      <td>6.299086</td>\n",
       "      <td>0.896341</td>\n",
       "      <td>1.0</td>\n",
       "    </tr>\n",
       "    <tr>\n",
       "      <th>24</th>\n",
       "      <td>15.0</td>\n",
       "      <td>1.00</td>\n",
       "      <td>2.5</td>\n",
       "      <td>56.730228</td>\n",
       "      <td>0.343885</td>\n",
       "      <td>0.077931</td>\n",
       "      <td>4.412681</td>\n",
       "      <td>-0.046782</td>\n",
       "      <td>-0.600298</td>\n",
       "      <td>6.893276</td>\n",
       "      <td>0.945122</td>\n",
       "      <td>1.0</td>\n",
       "    </tr>\n",
       "    <tr>\n",
       "      <th>25</th>\n",
       "      <td>15.0</td>\n",
       "      <td>1.00</td>\n",
       "      <td>3.0</td>\n",
       "      <td>64.226635</td>\n",
       "      <td>0.356148</td>\n",
       "      <td>0.079049</td>\n",
       "      <td>4.505417</td>\n",
       "      <td>-0.046782</td>\n",
       "      <td>-0.591809</td>\n",
       "      <td>7.107404</td>\n",
       "      <td>0.945122</td>\n",
       "      <td>1.0</td>\n",
       "    </tr>\n",
       "    <tr>\n",
       "      <th>26</th>\n",
       "      <td>15.0</td>\n",
       "      <td>1.50</td>\n",
       "      <td>2.5</td>\n",
       "      <td>28.995824</td>\n",
       "      <td>0.279466</td>\n",
       "      <td>0.061569</td>\n",
       "      <td>4.539062</td>\n",
       "      <td>-0.051043</td>\n",
       "      <td>-0.829041</td>\n",
       "      <td>7.364417</td>\n",
       "      <td>0.975610</td>\n",
       "      <td>1.0</td>\n",
       "    </tr>\n",
       "    <tr>\n",
       "      <th>27</th>\n",
       "      <td>15.0</td>\n",
       "      <td>1.50</td>\n",
       "      <td>3.0</td>\n",
       "      <td>32.710850</td>\n",
       "      <td>0.290805</td>\n",
       "      <td>0.062568</td>\n",
       "      <td>4.647823</td>\n",
       "      <td>-0.045351</td>\n",
       "      <td>-0.724830</td>\n",
       "      <td>7.592705</td>\n",
       "      <td>0.969512</td>\n",
       "      <td>1.0</td>\n",
       "    </tr>\n",
       "    <tr>\n",
       "      <th>28</th>\n",
       "      <td>15.0</td>\n",
       "      <td>1.96</td>\n",
       "      <td>2.5</td>\n",
       "      <td>9.009343</td>\n",
       "      <td>0.174557</td>\n",
       "      <td>0.041400</td>\n",
       "      <td>4.216315</td>\n",
       "      <td>-0.026855</td>\n",
       "      <td>-0.648667</td>\n",
       "      <td>7.120134</td>\n",
       "      <td>0.951220</td>\n",
       "      <td>1.0</td>\n",
       "    </tr>\n",
       "    <tr>\n",
       "      <th>29</th>\n",
       "      <td>15.0</td>\n",
       "      <td>1.96</td>\n",
       "      <td>3.0</td>\n",
       "      <td>10.629222</td>\n",
       "      <td>0.188858</td>\n",
       "      <td>0.043348</td>\n",
       "      <td>4.356818</td>\n",
       "      <td>-0.025789</td>\n",
       "      <td>-0.594929</td>\n",
       "      <td>7.591855</td>\n",
       "      <td>0.969512</td>\n",
       "      <td>1.0</td>\n",
       "    </tr>\n",
       "  </tbody>\n",
       "</table>\n",
       "</div>"
      ],
      "text/plain": [
       "    num_pairs  trigger_std  stoploss_std    cum_ret       ret       vol  \\\n",
       "0         1.0         1.00           2.5  19.445046  0.242591  0.167723   \n",
       "1         1.0         1.00           3.0  20.303540  0.246527  0.167951   \n",
       "2         1.0         1.50           2.5  12.112160  0.200277  0.133773   \n",
       "3         1.0         1.50           3.0  12.573779  0.203567  0.134014   \n",
       "4         1.0         1.96           2.5   5.953414  0.139476  0.107835   \n",
       "5         1.0         1.96           3.0   6.310263  0.144342  0.108307   \n",
       "6         2.0         1.00           2.5  27.915000  0.275914  0.148674   \n",
       "7         2.0         1.00           3.0  29.714540  0.281761  0.148877   \n",
       "8         2.0         1.50           2.5  16.636653  0.228486  0.118062   \n",
       "9         2.0         1.50           3.0  17.658147  0.233855  0.118286   \n",
       "10        2.0         1.96           2.5   6.413903  0.145707  0.083578   \n",
       "11        2.0         1.96           3.0   6.899810  0.151847  0.084122   \n",
       "12        5.0         1.00           2.5  27.905982  0.275883  0.098885   \n",
       "13        5.0         1.00           3.0  30.344425  0.283730  0.099355   \n",
       "14        5.0         1.50           2.5  17.157385  0.231260  0.079050   \n",
       "15        5.0         1.50           3.0  18.720818  0.239144  0.079384   \n",
       "16        5.0         1.96           2.5   6.061864  0.140983  0.055956   \n",
       "17        5.0         1.96           3.0   6.618914  0.148348  0.057058   \n",
       "18       10.0         1.00           2.5  39.107656  0.307790  0.075068   \n",
       "19       10.0         1.00           3.0  44.246652  0.319661  0.076237   \n",
       "20       10.0         1.50           2.5  23.947957  0.261680  0.059762   \n",
       "21       10.0         1.50           3.0  27.147007  0.273311  0.060818   \n",
       "22       10.0         1.96           2.5   7.371735  0.157438  0.041059   \n",
       "23       10.0         1.96           3.0   8.588124  0.170448  0.043328   \n",
       "24       15.0         1.00           2.5  56.730228  0.343885  0.077931   \n",
       "25       15.0         1.00           3.0  64.226635  0.356148  0.079049   \n",
       "26       15.0         1.50           2.5  28.995824  0.279466  0.061569   \n",
       "27       15.0         1.50           3.0  32.710850  0.290805  0.062568   \n",
       "28       15.0         1.96           2.5   9.009343  0.174557  0.041400   \n",
       "29       15.0         1.96           3.0  10.629222  0.188858  0.043348   \n",
       "\n",
       "      sharpe    max_dd  max_dd_vol   sortino  pct_positive_month  \\\n",
       "0   1.446380 -0.171617   -1.023217  1.449888            0.682927   \n",
       "1   1.467848 -0.171617   -1.021828  1.481308            0.682927   \n",
       "2   1.497133 -0.117285   -0.876742  1.396791            0.536585   \n",
       "3   1.519002 -0.117285   -0.875170  1.426377            0.530488   \n",
       "4   1.293425 -0.101414   -0.940456  0.947736            0.329268   \n",
       "5   1.332713 -0.101414   -0.936361  0.996837            0.341463   \n",
       "6   1.855833 -0.168457   -1.133068  2.199597            0.774390   \n",
       "7   1.892575 -0.168457   -1.131521  2.249560            0.774390   \n",
       "8   1.935310 -0.089731   -0.760033  2.273662            0.689024   \n",
       "9   1.977031 -0.089731   -0.758590  2.334888            0.689024   \n",
       "10  1.743374 -0.055866   -0.668436  1.933008            0.493902   \n",
       "11  1.805069 -0.060732   -0.721944  2.038896            0.506098   \n",
       "12  2.789934 -0.108543   -1.097669  3.867519            0.884146   \n",
       "13  2.855719 -0.107141   -1.078361  3.967767            0.890244   \n",
       "14  2.925477 -0.063593   -0.804463  4.205147            0.865854   \n",
       "15  3.012505 -0.062043   -0.781557  4.347114            0.865854   \n",
       "16  2.519548 -0.041402   -0.739901  3.296674            0.676829   \n",
       "17  2.599947 -0.045845   -0.803486  3.395669            0.695122   \n",
       "18  4.100134 -0.074281   -0.989515  6.331015            0.926829   \n",
       "19  4.192979 -0.070219   -0.921062  6.571775            0.926829   \n",
       "20  4.378695 -0.033868   -0.566713  7.511273            0.957317   \n",
       "21  4.493890 -0.033868   -0.556870  7.832981            0.957317   \n",
       "22  3.834395 -0.032335   -0.787529  5.908838            0.884146   \n",
       "23  3.933904 -0.032335   -0.746293  6.299086            0.896341   \n",
       "24  4.412681 -0.046782   -0.600298  6.893276            0.945122   \n",
       "25  4.505417 -0.046782   -0.591809  7.107404            0.945122   \n",
       "26  4.539062 -0.051043   -0.829041  7.364417            0.975610   \n",
       "27  4.647823 -0.045351   -0.724830  7.592705            0.969512   \n",
       "28  4.216315 -0.026855   -0.648667  7.120134            0.951220   \n",
       "29  4.356818 -0.025789   -0.594929  7.591855            0.969512   \n",
       "\n",
       "    pct_positive_yr  \n",
       "0               1.0  \n",
       "1               1.0  \n",
       "2               1.0  \n",
       "3               1.0  \n",
       "4               1.0  \n",
       "5               1.0  \n",
       "6               1.0  \n",
       "7               1.0  \n",
       "8               1.0  \n",
       "9               1.0  \n",
       "10              1.0  \n",
       "11              1.0  \n",
       "12              1.0  \n",
       "13              1.0  \n",
       "14              1.0  \n",
       "15              1.0  \n",
       "16              1.0  \n",
       "17              1.0  \n",
       "18              1.0  \n",
       "19              1.0  \n",
       "20              1.0  \n",
       "21              1.0  \n",
       "22              1.0  \n",
       "23              1.0  \n",
       "24              1.0  \n",
       "25              1.0  \n",
       "26              1.0  \n",
       "27              1.0  \n",
       "28              1.0  \n",
       "29              1.0  "
      ]
     },
     "execution_count": 23,
     "metadata": {},
     "output_type": "execute_result"
    }
   ],
   "source": [
    "df_all_records"
   ]
  },
  {
   "cell_type": "code",
   "execution_count": null,
   "metadata": {},
   "outputs": [],
   "source": []
  }
 ],
 "metadata": {
  "interpreter": {
   "hash": "58888c6a9bc0abb3eede47638e7ada4e81ed973d93c046eac2b019c73da15761"
  },
  "kernelspec": {
   "display_name": "Python 3.10.0 64-bit ('py310')",
   "language": "python",
   "name": "python3"
  },
  "language_info": {
   "codemirror_mode": {
    "name": "ipython",
    "version": 3
   },
   "file_extension": ".py",
   "mimetype": "text/x-python",
   "name": "python",
   "nbconvert_exporter": "python",
   "pygments_lexer": "ipython3",
   "version": "3.8.8"
  },
  "orig_nbformat": 4
 },
 "nbformat": 4,
 "nbformat_minor": 2
}
