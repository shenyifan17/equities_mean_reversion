{
 "cells": [
  {
   "cell_type": "code",
   "execution_count": 1,
   "metadata": {},
   "outputs": [
    {
     "name": "stderr",
     "output_type": "stream",
     "text": [
      "/opt/anaconda3/lib/python3.8/site-packages/statsmodels/tsa/base/tsa_model.py:7: FutureWarning: pandas.Int64Index is deprecated and will be removed from pandas in a future version. Use pandas.Index with the appropriate dtype instead.\n",
      "  from pandas import (to_datetime, Int64Index, DatetimeIndex, Period,\n",
      "/opt/anaconda3/lib/python3.8/site-packages/statsmodels/tsa/base/tsa_model.py:7: FutureWarning: pandas.Float64Index is deprecated and will be removed from pandas in a future version. Use pandas.Index with the appropriate dtype instead.\n",
      "  from pandas import (to_datetime, Int64Index, DatetimeIndex, Period,\n"
     ]
    }
   ],
   "source": [
    "import pandas as pd \n",
    "import numpy as np \n",
    "import statsmodels.tsa.stattools as ts\n",
    "from statsmodels.tsa.vector_ar.vecm import coint_johansen\n",
    "import matplotlib.pyplot as plt\n",
    "from backtest_utiles import *\n",
    "from itertools import combinations\n",
    "from statsmodels.tsa.stattools import coint"
   ]
  },
  {
   "cell_type": "code",
   "execution_count": 2,
   "metadata": {},
   "outputs": [],
   "source": [
    "df = pd.read_csv('SPX_components_close_data.csv').set_index('Date')\n",
    "df.index = pd.to_datetime(df.index)\n",
    "df_last_yr = df[df.index>='2022-01-01']\n",
    "coint_test_list = select_stock_pairs_from_correlation(df_period=df_last_yr, \n",
    "                                                        top_corr_pairs=15,\n",
    "                                                        drop_correlation=0.97)\n",
    "coint_pairs = find_cointegrated_pairs(df_period=df_last_yr, \n",
    "                                      coint_test_list=coint_test_list,\n",
    "                                      p_value_threshold=0.01)"
   ]
  },
  {
   "cell_type": "code",
   "execution_count": 3,
   "metadata": {},
   "outputs": [
    {
     "data": {
      "text/plain": [
       "[('PHM', 'LEN', 0.008034695794772112),\n",
       " ('MLM', 'LRCX', 0.005662451950343634),\n",
       " ('MLM', 'MAR', 0.0012817968759439994),\n",
       " ('LRCX', 'MAR', 0.00040579964354091786),\n",
       " ('MAR', 'VMC', 0.004909521644361649)]"
      ]
     },
     "execution_count": 3,
     "metadata": {},
     "output_type": "execute_result"
    }
   ],
   "source": [
    "coint_pairs"
   ]
  },
  {
   "cell_type": "code",
   "execution_count": null,
   "metadata": {},
   "outputs": [],
   "source": []
  }
 ],
 "metadata": {
  "interpreter": {
   "hash": "58888c6a9bc0abb3eede47638e7ada4e81ed973d93c046eac2b019c73da15761"
  },
  "kernelspec": {
   "display_name": "Python 3.10.0 64-bit ('py310')",
   "language": "python",
   "name": "python3"
  },
  "language_info": {
   "codemirror_mode": {
    "name": "ipython",
    "version": 3
   },
   "file_extension": ".py",
   "mimetype": "text/x-python",
   "name": "python",
   "nbconvert_exporter": "python",
   "pygments_lexer": "ipython3",
   "version": "3.8.8"
  },
  "orig_nbformat": 4
 },
 "nbformat": 4,
 "nbformat_minor": 2
}
