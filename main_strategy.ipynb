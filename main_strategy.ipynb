{
 "cells": [
  {
   "cell_type": "code",
   "execution_count": 1,
   "metadata": {},
   "outputs": [
    {
     "name": "stderr",
     "output_type": "stream",
     "text": [
      "/opt/anaconda3/lib/python3.8/site-packages/statsmodels/tsa/base/tsa_model.py:7: FutureWarning: pandas.Int64Index is deprecated and will be removed from pandas in a future version. Use pandas.Index with the appropriate dtype instead.\n",
      "  from pandas import (to_datetime, Int64Index, DatetimeIndex, Period,\n",
      "/opt/anaconda3/lib/python3.8/site-packages/statsmodels/tsa/base/tsa_model.py:7: FutureWarning: pandas.Float64Index is deprecated and will be removed from pandas in a future version. Use pandas.Index with the appropriate dtype instead.\n",
      "  from pandas import (to_datetime, Int64Index, DatetimeIndex, Period,\n"
     ]
    }
   ],
   "source": [
    "import pandas as pd\n",
    "import numpy as np\n",
    "import matplotlib.pyplot as plt\n",
    "from main_backtest import run_full_backtest\n",
    "import statsmodels.api as sm\n",
    "from cal_backtest_stats import *"
   ]
  },
  {
   "cell_type": "code",
   "execution_count": 12,
   "metadata": {},
   "outputs": [
    {
     "name": "stderr",
     "output_type": "stream",
     "text": [
      "/Users/shenyifan/Documents/equities_mean_reversion/main_backtest.py:51: FutureWarning: The default dtype for empty Series will be 'object' instead of 'float64' in a future version. Specify a dtype explicitly to silence this warning.\n",
      "  sr_LT_pct_ret = pd.Series()\n"
     ]
    }
   ],
   "source": [
    "params = {\n",
    "    'start_year': 2010, \n",
    "    'end_year': 2024, \n",
    "    'top_corr_pairs': 20,\n",
    "    'num_pairs': 15,\n",
    "    'trigger_std': 1.96,\n",
    "    'stoploss_std': 3.0\n",
    "}\n",
    "sr_LT_pct_ret = run_full_backtest(**params)\n",
    "sr_nav = (100*(1+sr_LT_pct_ret).cumprod())"
   ]
  },
  {
   "cell_type": "code",
   "execution_count": 13,
   "metadata": {},
   "outputs": [
    {
     "data": {
      "text/plain": [
       "<AxesSubplot:>"
      ]
     },
     "execution_count": 13,
     "metadata": {},
     "output_type": "execute_result"
    },
    {
     "data": {
      "image/png": "[encoded data removed]",
      "text/plain": [
       "<Figure size 432x288 with 1 Axes>"
      ]
     },
     "metadata": {
      "needs_background": "light"
     },
     "output_type": "display_data"
    }
   ],
   "source": [
    "sr_nav.plot()"
   ]
  },
  {
   "cell_type": "code",
   "execution_count": 14,
   "metadata": {},
   "outputs": [
    {
     "data": {
      "text/html": [
       "<div>\n",
       "<style scoped>\n",
       "    .dataframe tbody tr th:only-of-type {\n",
       "        vertical-align: middle;\n",
       "    }\n",
       "\n",
       "    .dataframe tbody tr th {\n",
       "        vertical-align: top;\n",
       "    }\n",
       "\n",
       "    .dataframe thead th {\n",
       "        text-align: right;\n",
       "    }\n",
       "</style>\n",
       "<table border=\"1\" class=\"dataframe\">\n",
       "  <thead>\n",
       "    <tr style=\"text-align: right;\">\n",
       "      <th></th>\n",
       "      <th>0</th>\n",
       "    </tr>\n",
       "  </thead>\n",
       "  <tbody>\n",
       "    <tr>\n",
       "      <th>Annualised Return</th>\n",
       "      <td>0.188858</td>\n",
       "    </tr>\n",
       "    <tr>\n",
       "      <th>Annualised Volatility</th>\n",
       "      <td>0.043354</td>\n",
       "    </tr>\n",
       "    <tr>\n",
       "      <th>Sharpe Ratio</th>\n",
       "      <td>4.356225</td>\n",
       "    </tr>\n",
       "    <tr>\n",
       "      <th>Max Drawdown</th>\n",
       "      <td>-0.025789</td>\n",
       "    </tr>\n",
       "    <tr>\n",
       "      <th>Max Drawdown/Vol Ratio</th>\n",
       "      <td>-0.594848</td>\n",
       "    </tr>\n",
       "    <tr>\n",
       "      <th>Sortino Ratio</th>\n",
       "      <td>7.591855</td>\n",
       "    </tr>\n",
       "    <tr>\n",
       "      <th>% +ve month</th>\n",
       "      <td>0.969512</td>\n",
       "    </tr>\n",
       "  </tbody>\n",
       "</table>\n",
       "</div>"
      ],
      "text/plain": [
       "                               0\n",
       "Annualised Return       0.188858\n",
       "Annualised Volatility   0.043354\n",
       "Sharpe Ratio            4.356225\n",
       "Max Drawdown           -0.025789\n",
       "Max Drawdown/Vol Ratio -0.594848\n",
       "Sortino Ratio           7.591855\n",
       "% +ve month             0.969512"
      ]
     },
     "execution_count": 14,
     "metadata": {},
     "output_type": "execute_result"
    }
   ],
   "source": [
    "generate_stats_table(sr_nav.to_frame())"
   ]
  },
  {
   "cell_type": "code",
   "execution_count": 18,
   "metadata": {},
   "outputs": [
    {
     "name": "stderr",
     "output_type": "stream",
     "text": [
      "/Users/shenyifan/Documents/equities_mean_reversion/main_backtest.py:51: FutureWarning: The default dtype for empty Series will be 'object' instead of 'float64' in a future version. Specify a dtype explicitly to silence this warning.\n",
      "  sr_LT_pct_ret = pd.Series()\n"
     ]
    }
   ],
   "source": [
    "from itertools import product\n",
    "# run multiple parameters to test parameter sensitivity \n",
    "params_config = {\n",
    "                'num_pairs': [2, 5, 10],   # number of pairs selected to test\n",
    "                'trigger_std': [1.96], # entry position standard deviation\n",
    "                'stoploss_std': [2.5, 3.0]     # stop loss standard deviation\n",
    "                }  \n",
    "\n",
    "# 4 * 3 * 2 = 24 combinations to test\n",
    "all_params = [dict(zip(params_config, val))\\\n",
    "              for val in product(*params_config.values())]\n",
    "records_dict = {}\n",
    "for i, para in enumerate(all_params):\n",
    "    sr_LT_pct_ret = run_full_backtest(**para)\n",
    "    sr_nav = (100*(1+sr_LT_pct_ret).cumprod())\n",
    "    stats_dict = cal_backtest_stats(sr_LT_pct_ret)\n",
    "    para.update(stats_dict)\n",
    "    records_dict[i] = para.copy()\n",
    "df_all_records = pd.DataFrame(data=records_dict).T\n"
   ]
  },
  {
   "cell_type": "code",
   "execution_count": null,
   "metadata": {},
   "outputs": [],
   "source": []
  }
 ],
 "metadata": {
  "interpreter": {
   "hash": "58888c6a9bc0abb3eede47638e7ada4e81ed973d93c046eac2b019c73da15761"
  },
  "kernelspec": {
   "display_name": "Python 3.10.0 64-bit ('py310')",
   "language": "python",
   "name": "python3"
  },
  "language_info": {
   "codemirror_mode": {
    "name": "ipython",
    "version": 3
   },
   "file_extension": ".py",
   "mimetype": "text/x-python",
   "name": "python",
   "nbconvert_exporter": "python",
   "pygments_lexer": "ipython3",
   "version": "3.8.8"
  },
  "orig_nbformat": 4
 },
 "nbformat": 4,
 "nbformat_minor": 2
}
